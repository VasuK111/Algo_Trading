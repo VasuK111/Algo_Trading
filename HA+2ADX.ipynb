{
  "nbformat": 4,
  "nbformat_minor": 0,
  "metadata": {
    "colab": {
      "provenance": []
    },
    "kernelspec": {
      "name": "python3",
      "display_name": "Python 3"
    },
    "language_info": {
      "name": "python"
    }
  },
  "cells": [
    {
      "cell_type": "markdown",
      "source": [
        "# Requirements"
      ],
      "metadata": {
        "id": "ZpCM_boUMYMQ"
      }
    },
    {
      "cell_type": "code",
      "source": [
        "import pandas as pd\n",
        "import matplotlib.pyplot as plt\n",
        "import requests\n",
        "import numpy as np\n",
        "from math import floor\n",
        "from termcolor import colored as cl\n",
        "import yfinance as yf\n",
        "from collections import defaultdict\n",
        "from datetime import datetime"
      ],
      "metadata": {
        "id": "WHjqO9__May-"
      },
      "execution_count": null,
      "outputs": []
    },
    {
      "cell_type": "markdown",
      "source": [
        "# Mounting the google drive"
      ],
      "metadata": {
        "id": "Uv9Bi2k2Ncob"
      }
    },
    {
      "cell_type": "code",
      "source": [
        "from google.colab import drive\n",
        "drive.mount('/content/drive')"
      ],
      "metadata": {
        "colab": {
          "base_uri": "https://localhost:8080/"
        },
        "id": "bOdI8f3JNf7p",
        "outputId": "ef95c542-e487-4079-d95e-1abe80b2048e"
      },
      "execution_count": null,
      "outputs": [
        {
          "output_type": "stream",
          "name": "stdout",
          "text": [
            "Drive already mounted at /content/drive; to attempt to forcibly remount, call drive.mount(\"/content/drive\", force_remount=True).\n"
          ]
        }
      ]
    },
    {
      "cell_type": "markdown",
      "source": [
        "# Using Yahoo Finance Data\n",
        "If one wants to fetch data from Yahoo finance and test strtedgy they need to specify the required symbol as well as required end and start time"
      ],
      "metadata": {
        "id": "vIk9PKudXzp5"
      }
    },
    {
      "cell_type": "code",
      "source": [
        "def fetch_data(symbol, starttime, endtime):\n",
        "  symbol = symbol\n",
        "  # Specify the start and end times\n",
        "  start = starttime\n",
        "  end = endtime\n",
        "\n",
        "  #Download intraday\n",
        "  data = yf.download(symbol, start=start, end=end)\n",
        "  data.rename(columns = {'Date':'datetime'}, inplace = True)\n",
        "  data.rename(columns = {'Open':'open'}, inplace = True)\n",
        "  data.rename(columns = {'Close':'close'}, inplace = True)\n",
        "  data.rename(columns = {'Low':'low'}, inplace = True)\n",
        "  data.rename(columns = {'High':'high'}, inplace = True)\n",
        "  data.rename(columns = {'Volume':'volume'}, inplace = True)\n",
        "  data.drop('Adj Close',axis=1)\n",
        "\n",
        "  data.reset_index(inplace = True)\n",
        "  data.rename(columns = {'Date':'datetime'}, inplace = True)\n",
        "\n",
        "  return data"
      ],
      "metadata": {
        "id": "l-3LBEBcMfr1"
      },
      "execution_count": null,
      "outputs": []
    },
    {
      "cell_type": "markdown",
      "source": [
        "# Using custom data\n",
        "One can use custom data either by mounting google drive or uploading the required file"
      ],
      "metadata": {
        "id": "sIR4U9QjKM33"
      }
    },
    {
      "cell_type": "code",
      "source": [
        "def create_dataset(path):\n",
        "  df = pd.read_csv(path)\n",
        "  df.set_index('datetime', inplace=True)\n",
        "  if not isinstance(df.index, pd.DatetimeIndex):\n",
        "    df.index = pd.to_datetime(df.index)\n",
        "\n",
        "  first_value = lambda x: x.iloc[0] if not x.empty else None\n",
        "\n",
        "  last_value = lambda x: x.iloc[-1] if not x.empty else None\n",
        "\n",
        "  agg_dict = {\n",
        "              'open': first_value,\n",
        "              'high': 'max',\n",
        "              'low': 'min',\n",
        "              'close': last_value,\n",
        "              'volume': 'sum'\n",
        "            }\n",
        "\n",
        "  df_resampled = df.resample('1D').agg(agg_dict)\n",
        "\n",
        "  df_resampled.reset_index(inplace=True)\n",
        "\n",
        "  return df_resampled"
      ],
      "metadata": {
        "id": "Svi60nmiLlJM"
      },
      "execution_count": null,
      "outputs": []
    },
    {
      "cell_type": "markdown",
      "source": [
        "# Calculations and Testing"
      ],
      "metadata": {
        "id": "9uu87s40X77M"
      }
    },
    {
      "cell_type": "markdown",
      "source": [
        "### ATR Calculation"
      ],
      "metadata": {
        "id": "k0Br2T9RN-0s"
      }
    },
    {
      "cell_type": "code",
      "source": [
        "# Calculate the ATR indicator\n",
        "def atr(DF,n):\n",
        "    df=DF.copy()\n",
        "    df['High-Low']=abs(df['high']-df['low'])\n",
        "    df['High-PreviousClose']=abs(df['high']-df['close'].shift(1))\n",
        "    df['Low-PreviousClose']=abs(df['low']-df[\"close\"].shift(1))\n",
        "    df['TrueRange']=df[['High-Low','High-PreviousClose','Low-PreviousClose']].max(axis=1,skipna=False)\n",
        "    df['ATR']=df['TrueRange'].ewm(com=n,min_periods=n).mean()\n",
        "    return df['ATR']\n"
      ],
      "metadata": {
        "id": "xF-_xlhWN5gY"
      },
      "execution_count": null,
      "outputs": []
    },
    {
      "cell_type": "markdown",
      "source": [
        "### ADX Calculation"
      ],
      "metadata": {
        "id": "D8XzvrITOf3m"
      }
    },
    {
      "cell_type": "code",
      "source": [
        "#calculate ADX\n",
        "def get_adx(high, low, close, lookback):\n",
        "    plus_dm = high.diff()\n",
        "    minus_dm = low.diff()\n",
        "    plus_dm[plus_dm < 0] = 0\n",
        "    minus_dm[minus_dm > 0] = 0\n",
        "\n",
        "    tr1 = pd.DataFrame(high - low)\n",
        "    tr2 = pd.DataFrame(abs(high - close.shift(1)))\n",
        "    tr3 = pd.DataFrame(abs(low - close.shift(1)))\n",
        "    frames = [tr1, tr2, tr3]\n",
        "    tr = pd.concat(frames, axis = 1, join = 'inner').max(axis = 1)\n",
        "    atr = tr.rolling(lookback).mean()\n",
        "\n",
        "    plus_di = 100 * (plus_dm.ewm(alpha = 1/lookback).mean() / atr)\n",
        "    minus_di = abs(100 * (minus_dm.ewm(alpha = 1/lookback).mean() / atr))\n",
        "    dx = (abs(plus_di - minus_di) / abs(plus_di + minus_di)) * 100\n",
        "    adx = ((dx.shift(1) * (lookback - 1)) + dx) / lookback\n",
        "    adx_smooth = adx.ewm(alpha = 1/lookback).mean()\n",
        "    return plus_di, minus_di, adx_smooth\n"
      ],
      "metadata": {
        "id": "PiyYtVutOe1R"
      },
      "execution_count": null,
      "outputs": []
    },
    {
      "cell_type": "markdown",
      "source": [
        "### Preprocessing on the data\n",
        "Precomputing the required columns of Heikanshi Candles, RSI and ADX for further calcultations"
      ],
      "metadata": {
        "id": "0voa0ZD9RiHD"
      }
    },
    {
      "cell_type": "code",
      "source": [
        "def process_data(df, atr_period):\n",
        "  # Calculate the Heikin Ashi candles\n",
        "  df['HA_Close'] = (df['open'] + df['high'] + df['low'] + df['close']) / 4\n",
        "  df['HA_Open'] = (df['open'].shift(1) + df['close'].shift(1)) / 2\n",
        "  df['HA_High'] = df[['high', 'low', 'HA_Open', 'HA_Close']].max(axis=1)\n",
        "  df['HA_Low'] = df[['high', 'low', 'HA_Open', 'HA_Close']].min(axis=1)\n",
        "\n",
        "\n",
        "  # Initialize the position and signal columns\n",
        "  df['Position'] = 0\n",
        "  df['signals'] = 0\n",
        "\n",
        "  #caclulate the required indicators\n",
        "  df['adx'] = pd.DataFrame(get_adx(df['high'], df['low'], df['close'], 15)[2]).rename(columns = {0:'adx'})\n",
        "  df['adxl'] = pd.DataFrame(get_adx(df['high'], df['low'], df['close'], 250)[2])\n",
        "  df['ATR']=atr(df,atr_period)\n",
        "  df['DailyReturns'] = df['close'].pct_change()\n",
        "  df['WeeklyReturns']=df['DailyReturns'].rolling(5).sum()\n",
        "  df['CumulativeReturns'] = (1 + df['DailyReturns']).cumprod()\n",
        "\n",
        "\n",
        "  return df"
      ],
      "metadata": {
        "id": "KpZsGhmMRg7F"
      },
      "execution_count": null,
      "outputs": []
    },
    {
      "cell_type": "markdown",
      "source": [
        "### Postprocessing on data"
      ],
      "metadata": {
        "id": "NXs4wES7UYHp"
      }
    },
    {
      "cell_type": "code",
      "source": [
        "def post_process(df):\n",
        "\n",
        "  #calculating strategy returns\n",
        "  df['StrategyReturns'] = df['Position'] * df['DailyReturns']\n",
        "\n",
        "\n",
        "  #calculating no of trades and applying transaction costs\n",
        "  trades=0\n",
        "  for i in range(1, len(df)):\n",
        "      if(df.loc[i,'signals']!=0):\n",
        "          trades+=abs(df.loc[i,'signals'])\n",
        "          df.loc[i,'StrategyReturns']-=0.0005*abs(df.loc[i,'signals'])\n",
        "\n",
        "  #calculating Cumulative returns\n",
        "  df['CumulativeStrategyReturns'] = (1 + df['StrategyReturns']).cumprod()\n",
        "  df['StrategyReturns'][0]=1\n",
        "\n",
        "  #calculation of sharpe and drawdown\n",
        "  df['MDD']=((df['StrategyReturns'].cumsum().cummax()-df['StrategyReturns'].cumsum())/df['StrategyReturns'].cumsum().cummax())*100\n",
        "  average_strategy_return = df['StrategyReturns'].mean()\n",
        "  std_dev_strategy_return = df['StrategyReturns'].std()\n",
        "\n",
        "  return df, trades, average_strategy_return, std_dev_strategy_return"
      ],
      "metadata": {
        "id": "23tdCfAZUa9G"
      },
      "execution_count": null,
      "outputs": []
    },
    {
      "cell_type": "markdown",
      "source": [
        "### Main Strategy"
      ],
      "metadata": {
        "id": "q4McNVnjOlVy"
      }
    },
    {
      "cell_type": "code",
      "source": [
        "def HeikenAshi(df, atr_multiplier=4):\n",
        "  for i in range(1, len(df)-1):\n",
        "    # Get the previous and current values of the indicators and candle\n",
        "    prev_ha_close = df.loc[i-1, 'HA_Close']\n",
        "    curr_ha_close = df.loc[i, 'HA_Close']\n",
        "    prev_ha_open = df.loc[i-1, 'HA_Open']\n",
        "    curr_ha_open = df.loc[i, 'HA_Open']\n",
        "    curr_atr = df.loc[i, 'ATR']\n",
        "\n",
        "\n",
        "    #long condition\n",
        "    if (prev_ha_close > prev_ha_open and curr_ha_close > curr_ha_open  and df['adx'][i]<25 and df['adxl'][i]<50) and df['Position'][i]!=1:\n",
        "          # Enter a long position and set the signal to 1\n",
        "          df.loc[i+1, 'Position'] = 1\n",
        "          df.loc[i, 'signals'] = df.loc[i+1, 'Position']-df.loc[i,'Position']\n",
        "          # Set the initial stop loss to the current low minus the ATR multiplied by the multiplier\n",
        "          stop_loss = df.loc[i, 'high'] - curr_atr * (atr_multiplier+1)\n",
        "\n",
        "\n",
        "\n",
        "    #short condition\n",
        "    elif (prev_ha_close > prev_ha_open and curr_ha_close < curr_ha_open and df['adx'][i]<25 and df['adxl'][i]<50) and df['Position'][i]!=-1 :\n",
        "          # Enter a short position and set the signal to -1\n",
        "          df.loc[i+1, 'Position'] = -1\n",
        "          df.loc[i, 'signals'] = df.loc[i+1, 'Position']-df.loc[i,'Position']\n",
        "          # Set the initial stop loss to the current high plus the ATR multiplied by the multiplier\n",
        "          stop_loss = df.loc[i, 'low'] + curr_atr * (atr_multiplier-1)\n",
        "\n",
        "\n",
        "\n",
        "    #secondary long condition\n",
        "    elif( df['adx'][i]>60 and df['Position'][i]!=1  and df['WeeklyReturns'][i]<0 ):\n",
        "          df.loc[i+1, 'Position'] = 1\n",
        "          df.loc[i, 'signals'] = df.loc[i+1, 'Position']-df.loc[i,'Position']\n",
        "          # Set the initial stop loss to the current low minus the ATR multiplied by the multiplier\n",
        "          stop_loss = df.loc[i, 'high'] - curr_atr * (atr_multiplier+1)\n",
        "\n",
        "\n",
        "\n",
        "    #secondary short condition\n",
        "    elif(df['adx'][i]>60 and df['Position'][i]!=-1 and df['WeeklyReturns'][i]>0):\n",
        "          # Enter a short position and set the signal to -1\n",
        "          df.loc[i+1, 'Position'] = -1\n",
        "          df.loc[i, 'signals'] = df.loc[i+1, 'Position']-df.loc[i,'Position']\n",
        "          # Set the initial stop loss to the current high plus the ATR multiplied by the multiplier\n",
        "          stop_loss = df.loc[i, 'low'] + curr_atr * (atr_multiplier-1)\n",
        "\n",
        "\n",
        "    #stoploss implementation\n",
        "    else:\n",
        "          # If the current position is long\n",
        "          if df.loc[i, 'Position'] == 1:\n",
        "              # Carry over the position\n",
        "              df.loc[i+1, 'Position'] = 1\n",
        "              # Check if the current low is below the stop loss\n",
        "              if df.loc[i, 'low'] < stop_loss :\n",
        "                  # Exit the position and set the signal to -1\n",
        "                  df.loc[i+1, 'Position'] = 0\n",
        "                  df.loc[i, 'signals'] = -1\n",
        "\n",
        "              # Otherwise, update the stop loss to the maximum of the previous stop loss and the current high minus the ATR multiplied by the multiplier\n",
        "              else:\n",
        "                  stop_loss = max(stop_loss, df.loc[i, 'high'] - curr_atr * (atr_multiplier+1))\n",
        "          # If the current position is short\n",
        "          elif df.loc[i, 'Position'] == -1:\n",
        "              # Carry over the position\n",
        "              df.loc[i+1, 'Position'] = -1\n",
        "              # Check if the current high is above the stop loss\n",
        "              if df.loc[i, 'high'] > stop_loss :\n",
        "                  # Exit the position and set the signal to 1\n",
        "                  df.loc[i+1, 'Position'] = 0\n",
        "                  df.loc[i, 'signals'] = 1\n",
        "\n",
        "              # Otherwise, update the stop loss to the minimum of the previous stop loss and the current low plus the ATR multiplied by the multiplier\n",
        "              else:\n",
        "                  stop_loss = min(stop_loss, df.loc[i, 'low'] + curr_atr * (atr_multiplier-1))\n",
        "\n",
        "          # If the current position is neutral\n",
        "          else:\n",
        "              # Carry over the position\n",
        "              df.loc[i+1, 'Position'] = 0\n",
        "\n",
        "  return df"
      ],
      "metadata": {
        "id": "VbvTk68BSw-4"
      },
      "execution_count": null,
      "outputs": []
    },
    {
      "cell_type": "markdown",
      "source": [
        "### Plotting Results"
      ],
      "metadata": {
        "id": "xsSMFvVNVAb8"
      }
    },
    {
      "cell_type": "code",
      "source": [
        "def plot_results(df, trades, average_strategy_return, std_dev_strategy_return):\n",
        "  plt.figure(figsize=(12, 10))\n",
        "  plt.subplot(3, 1, 1)\n",
        "  plt.plot(df['CumulativeReturns'], label='Buy and Hold')\n",
        "  plt.plot(df['StrategyReturns'].cumsum(), label='HA+2ADX : static')\n",
        "  plt.legend()\n",
        "  plt.title('Cumulative Returns')\n",
        "\n",
        "  plt.subplot(3, 1, 3)\n",
        "  plt.plot(df['CumulativeStrategyReturns'], label='HA+2ADX:compound')\n",
        "  plt.plot(df['StrategyReturns'].cumsum(), label='HA+2ADX :static')\n",
        "  plt.legend()\n",
        "  plt.title('Strategy Returns')\n",
        "\n",
        "\n",
        "  plt.subplot(3, 1, 2)\n",
        "\n",
        "  plt.plot(df['MDD'], label='Drawdown')\n",
        "  plt.legend()\n",
        "  plt.title('Drawdown Analysis')\n",
        "\n",
        "  plt.show()\n",
        "  max_ddn=df['MDD'].max()\n",
        "  sharpe_ratio=(365*average_strategy_return)/(np.sqrt(365)*std_dev_strategy_return)\n",
        "  print(f'Sharpe Ratio: {sharpe_ratio:.4f}')\n",
        "  print(f'No of trades: {trades:.4f}')\n",
        "  print(f'Max Drawdown: {max_ddn:.4f} %')"
      ],
      "metadata": {
        "id": "Cva73roUVC_e"
      },
      "execution_count": null,
      "outputs": []
    },
    {
      "cell_type": "markdown",
      "source": [
        "## MAIN RUN"
      ],
      "metadata": {
        "id": "QISS1CQ9VZUa"
      }
    },
    {
      "cell_type": "code",
      "source": [
        "#If want to use your custom data specify the path here\n",
        "#df = create_dataset('/content/drive/MyDrive/btcusdt_30m.csv')\n",
        "\n",
        "#If want to use yahoo finance data\n",
        "symbol = \"BTC-USD\"\n",
        "# Specify the intraday start and end times\n",
        "start = datetime(2022, 1, 13, 0, 0, 0)\n",
        "end = datetime(2023, 12, 12, 0, 0, 0)\n",
        "\n",
        "n=10\n",
        "\n",
        "df = fetch_data(symbol, start, end)\n",
        "df = process_data(df, n)\n",
        "\n",
        "atr_multiplier=3\n",
        "stoploss = 0\n",
        "\n",
        "df = HeikenAshi(df, atr_multiplier)\n",
        "\n",
        "df, trades, average_strategy_return, std_dev_strategy_return = post_process(df)\n",
        "\n",
        "plot_results(df, trades, average_strategy_return, std_dev_strategy_return)"
      ],
      "metadata": {
        "colab": {
          "base_uri": "https://localhost:8080/",
          "height": 1000
        },
        "id": "b4e7FjUGXi4l",
        "outputId": "9308d2e5-37ec-45ed-84e3-e182009ac48d"
      },
      "execution_count": null,
      "outputs": [
        {
          "output_type": "stream",
          "name": "stdout",
          "text": [
            "\r[*********************100%%**********************]  1 of 1 completed\n"
          ]
        },
        {
          "output_type": "stream",
          "name": "stderr",
          "text": [
            "<ipython-input-160-19b2fe66bada>:16: SettingWithCopyWarning: \n",
            "A value is trying to be set on a copy of a slice from a DataFrame\n",
            "\n",
            "See the caveats in the documentation: https://pandas.pydata.org/pandas-docs/stable/user_guide/indexing.html#returning-a-view-versus-a-copy\n",
            "  df['StrategyReturns'][0]=1\n"
          ]
        },
        {
          "output_type": "display_data",
          "data": {
            "text/plain": [
              "<Figure size 1200x1000 with 3 Axes>"
            ],
            "image/png": "[encoded data removed]"
          },
          "metadata": {}
        },
        {
          "output_type": "stream",
          "name": "stdout",
          "text": [
            "Sharpe Ratio: 1.2589\n",
            "No of trades: 111.0000\n",
            "Max Drawdown: 13.9745 %\n"
          ]
        }
      ]
    },
    {
      "cell_type": "markdown",
      "source": [
        "# CREATING LOGS"
      ],
      "metadata": {
        "id": "ufjPqKIOaPhQ"
      }
    },
    {
      "cell_type": "markdown",
      "source": [
        "Specify the 3m interval data file"
      ],
      "metadata": {
        "id": "dssCkTinYi_B"
      }
    },
    {
      "cell_type": "code",
      "source": [
        "data = pd.read_csv('/content/drive/MyDrive/btcusdt_3m.csv')"
      ],
      "metadata": {
        "id": "OR6Fpe8AYgbY"
      },
      "execution_count": null,
      "outputs": []
    },
    {
      "cell_type": "code",
      "source": [
        "\n",
        "data['signals'] = 0\n",
        "df.rename(columns = {'Date':'datetime'}, inplace = True)\n",
        "df['datetime'] = pd.to_datetime(df['datetime'])\n",
        "data['datetime'] = pd.to_datetime(data['datetime'])\n",
        "\n",
        "data.set_index('datetime', inplace=True)"
      ],
      "metadata": {
        "id": "9KGjUPBSaT_i"
      },
      "execution_count": null,
      "outputs": []
    },
    {
      "cell_type": "code",
      "source": [
        "from datetime import datetime, timedelta\n",
        "import pandas as pd\n",
        "\n",
        "for i in range(0, len(df)):\n",
        "    if abs(df['signals'][i]) == 2:\n",
        "        new_datetime = df['datetime'][i] + timedelta(minutes=57) + timedelta(hours=23)\n",
        "        data.at[new_datetime, 'signals'] = df['signals'][i]/2\n",
        "        data.at[new_datetime + timedelta(minutes=3), 'signals'] = df['signals'][i]/2\n",
        "    elif abs(df['signals'][i]) == 1:\n",
        "        new_datetime = df['datetime'][i] + timedelta(minutes=57) + timedelta(hours=23)\n",
        "        data.at[new_datetime, 'signals'] = df['signals'][i]\n",
        "\n",
        "data.reset_index(inplace=True)"
      ],
      "metadata": {
        "id": "O-jRYwidacj8"
      },
      "execution_count": null,
      "outputs": []
    },
    {
      "cell_type": "code",
      "source": [
        "data"
      ],
      "metadata": {
        "id": "sPaAelZRXHEz",
        "colab": {
          "base_uri": "https://localhost:8080/",
          "height": 423
        },
        "outputId": "42f79a66-ffb2-49ca-caa2-5de86a2d3820"
      },
      "execution_count": null,
      "outputs": [
        {
          "output_type": "execute_result",
          "data": {
            "text/plain": [
              "                  datetime      open      high       low     close     volume  \\\n",
              "0      2018-01-01 05:30:00  13715.65  13715.65  13666.11  13680.00   6.303815   \n",
              "1      2018-01-01 05:33:00  13679.98  13679.98  13554.44  13568.00  33.709206   \n",
              "2      2018-01-01 05:36:00  13568.00  13575.00  13501.01  13575.00  29.645987   \n",
              "3      2018-01-01 05:39:00  13539.99  13575.00  13400.01  13515.26  30.696039   \n",
              "4      2018-01-01 05:42:00  13515.26  13568.66  13473.47  13556.15  23.260966   \n",
              "...                    ...       ...       ...       ...       ...        ...   \n",
              "704003 2023-11-15 00:00:00       NaN       NaN       NaN       NaN        NaN   \n",
              "704004 2023-11-15 23:57:00       NaN       NaN       NaN       NaN        NaN   \n",
              "704005 2023-11-16 00:00:00       NaN       NaN       NaN       NaN        NaN   \n",
              "704006 2023-11-16 23:57:00       NaN       NaN       NaN       NaN        NaN   \n",
              "704007 2023-11-17 00:00:00       NaN       NaN       NaN       NaN        NaN   \n",
              "\n",
              "        signals  \n",
              "0           0.0  \n",
              "1           0.0  \n",
              "2           0.0  \n",
              "3           0.0  \n",
              "4           0.0  \n",
              "...         ...  \n",
              "704003      1.0  \n",
              "704004     -1.0  \n",
              "704005     -1.0  \n",
              "704006      1.0  \n",
              "704007      1.0  \n",
              "\n",
              "[704008 rows x 7 columns]"
            ],
            "text/html": [
              "\n",
              "  <div id=\"df-456d76f8-9a26-4f80-842b-7830f577f92f\" class=\"colab-df-container\">\n",
              "    <div>\n",
              "<style scoped>\n",
              "    .dataframe tbody tr th:only-of-type {\n",
              "        vertical-align: middle;\n",
              "    }\n",
              "\n",
              "    .dataframe tbody tr th {\n",
              "        vertical-align: top;\n",
              "    }\n",
              "\n",
              "    .dataframe thead th {\n",
              "        text-align: right;\n",
              "    }\n",
              "</style>\n",
              "<table border=\"1\" class=\"dataframe\">\n",
              "  <thead>\n",
              "    <tr style=\"text-align: right;\">\n",
              "      <th></th>\n",
              "      <th>datetime</th>\n",
              "      <th>open</th>\n",
              "      <th>high</th>\n",
              "      <th>low</th>\n",
              "      <th>close</th>\n",
              "      <th>volume</th>\n",
              "      <th>signals</th>\n",
              "    </tr>\n",
              "  </thead>\n",
              "  <tbody>\n",
              "    <tr>\n",
              "      <th>0</th>\n",
              "      <td>2018-01-01 05:30:00</td>\n",
              "      <td>13715.65</td>\n",
              "      <td>13715.65</td>\n",
              "      <td>13666.11</td>\n",
              "      <td>13680.00</td>\n",
              "      <td>6.303815</td>\n",
              "      <td>0.0</td>\n",
              "    </tr>\n",
              "    <tr>\n",
              "      <th>1</th>\n",
              "      <td>2018-01-01 05:33:00</td>\n",
              "      <td>13679.98</td>\n",
              "      <td>13679.98</td>\n",
              "      <td>13554.44</td>\n",
              "      <td>13568.00</td>\n",
              "      <td>33.709206</td>\n",
              "      <td>0.0</td>\n",
              "    </tr>\n",
              "    <tr>\n",
              "      <th>2</th>\n",
              "      <td>2018-01-01 05:36:00</td>\n",
              "      <td>13568.00</td>\n",
              "      <td>13575.00</td>\n",
              "      <td>13501.01</td>\n",
              "      <td>13575.00</td>\n",
              "      <td>29.645987</td>\n",
              "      <td>0.0</td>\n",
              "    </tr>\n",
              "    <tr>\n",
              "      <th>3</th>\n",
              "      <td>2018-01-01 05:39:00</td>\n",
              "      <td>13539.99</td>\n",
              "      <td>13575.00</td>\n",
              "      <td>13400.01</td>\n",
              "      <td>13515.26</td>\n",
              "      <td>30.696039</td>\n",
              "      <td>0.0</td>\n",
              "    </tr>\n",
              "    <tr>\n",
              "      <th>4</th>\n",
              "      <td>2018-01-01 05:42:00</td>\n",
              "      <td>13515.26</td>\n",
              "      <td>13568.66</td>\n",
              "      <td>13473.47</td>\n",
              "      <td>13556.15</td>\n",
              "      <td>23.260966</td>\n",
              "      <td>0.0</td>\n",
              "    </tr>\n",
              "    <tr>\n",
              "      <th>...</th>\n",
              "      <td>...</td>\n",
              "      <td>...</td>\n",
              "      <td>...</td>\n",
              "      <td>...</td>\n",
              "      <td>...</td>\n",
              "      <td>...</td>\n",
              "      <td>...</td>\n",
              "    </tr>\n",
              "    <tr>\n",
              "      <th>704003</th>\n",
              "      <td>2023-11-15 00:00:00</td>\n",
              "      <td>NaN</td>\n",
              "      <td>NaN</td>\n",
              "      <td>NaN</td>\n",
              "      <td>NaN</td>\n",
              "      <td>NaN</td>\n",
              "      <td>1.0</td>\n",
              "    </tr>\n",
              "    <tr>\n",
              "      <th>704004</th>\n",
              "      <td>2023-11-15 23:57:00</td>\n",
              "      <td>NaN</td>\n",
              "      <td>NaN</td>\n",
              "      <td>NaN</td>\n",
              "      <td>NaN</td>\n",
              "      <td>NaN</td>\n",
              "      <td>-1.0</td>\n",
              "    </tr>\n",
              "    <tr>\n",
              "      <th>704005</th>\n",
              "      <td>2023-11-16 00:00:00</td>\n",
              "      <td>NaN</td>\n",
              "      <td>NaN</td>\n",
              "      <td>NaN</td>\n",
              "      <td>NaN</td>\n",
              "      <td>NaN</td>\n",
              "      <td>-1.0</td>\n",
              "    </tr>\n",
              "    <tr>\n",
              "      <th>704006</th>\n",
              "      <td>2023-11-16 23:57:00</td>\n",
              "      <td>NaN</td>\n",
              "      <td>NaN</td>\n",
              "      <td>NaN</td>\n",
              "      <td>NaN</td>\n",
              "      <td>NaN</td>\n",
              "      <td>1.0</td>\n",
              "    </tr>\n",
              "    <tr>\n",
              "      <th>704007</th>\n",
              "      <td>2023-11-17 00:00:00</td>\n",
              "      <td>NaN</td>\n",
              "      <td>NaN</td>\n",
              "      <td>NaN</td>\n",
              "      <td>NaN</td>\n",
              "      <td>NaN</td>\n",
              "      <td>1.0</td>\n",
              "    </tr>\n",
              "  </tbody>\n",
              "</table>\n",
              "<p>704008 rows × 7 columns</p>\n",
              "</div>\n",
              "    <div class=\"colab-df-buttons\">\n",
              "\n",
              "  <div class=\"colab-df-container\">\n",
              "    <button class=\"colab-df-convert\" onclick=\"convertToInteractive('df-456d76f8-9a26-4f80-842b-7830f577f92f')\"\n",
              "            title=\"Convert this dataframe to an interactive table.\"\n",
              "            style=\"display:none;\">\n",
              "\n",
              "  <svg xmlns=\"http://www.w3.org/2000/svg\" height=\"24px\" viewBox=\"0 -960 960 960\">\n",
              "    <path d=\"M120-120v-720h720v720H120Zm60-500h600v-160H180v160Zm220 220h160v-160H400v160Zm0 220h160v-160H400v160ZM180-400h160v-160H180v160Zm440 0h160v-160H620v160ZM180-180h160v-160H180v160Zm440 0h160v-160H620v160Z\"/>\n",
              "  </svg>\n",
              "    </button>\n",
              "\n",
              "  <style>\n",
              "    .colab-df-container {\n",
              "      display:flex;\n",
              "      gap: 12px;\n",
              "    }\n",
              "\n",
              "    .colab-df-convert {\n",
              "      background-color: #E8F0FE;\n",
              "      border: none;\n",
              "      border-radius: 50%;\n",
              "      cursor: pointer;\n",
              "      display: none;\n",
              "      fill: #1967D2;\n",
              "      height: 32px;\n",
              "      padding: 0 0 0 0;\n",
              "      width: 32px;\n",
              "    }\n",
              "\n",
              "    .colab-df-convert:hover {\n",
              "      background-color: #E2EBFA;\n",
              "      box-shadow: 0px 1px 2px rgba(60, 64, 67, 0.3), 0px 1px 3px 1px rgba(60, 64, 67, 0.15);\n",
              "      fill: #174EA6;\n",
              "    }\n",
              "\n",
              "    .colab-df-buttons div {\n",
              "      margin-bottom: 4px;\n",
              "    }\n",
              "\n",
              "    [theme=dark] .colab-df-convert {\n",
              "      background-color: #3B4455;\n",
              "      fill: #D2E3FC;\n",
              "    }\n",
              "\n",
              "    [theme=dark] .colab-df-convert:hover {\n",
              "      background-color: #434B5C;\n",
              "      box-shadow: 0px 1px 3px 1px rgba(0, 0, 0, 0.15);\n",
              "      filter: drop-shadow(0px 1px 2px rgba(0, 0, 0, 0.3));\n",
              "      fill: #FFFFFF;\n",
              "    }\n",
              "  </style>\n",
              "\n",
              "    <script>\n",
              "      const buttonEl =\n",
              "        document.querySelector('#df-456d76f8-9a26-4f80-842b-7830f577f92f button.colab-df-convert');\n",
              "      buttonEl.style.display =\n",
              "        google.colab.kernel.accessAllowed ? 'block' : 'none';\n",
              "\n",
              "      async function convertToInteractive(key) {\n",
              "        const element = document.querySelector('#df-456d76f8-9a26-4f80-842b-7830f577f92f');\n",
              "        const dataTable =\n",
              "          await google.colab.kernel.invokeFunction('convertToInteractive',\n",
              "                                                    [key], {});\n",
              "        if (!dataTable) return;\n",
              "\n",
              "        const docLinkHtml = 'Like what you see? Visit the ' +\n",
              "          '<a target=\"_blank\" href=https://colab.research.google.com/notebooks/data_table.ipynb>data table notebook</a>'\n",
              "          + ' to learn more about interactive tables.';\n",
              "        element.innerHTML = '';\n",
              "        dataTable['output_type'] = 'display_data';\n",
              "        await google.colab.output.renderOutput(dataTable, element);\n",
              "        const docLink = document.createElement('div');\n",
              "        docLink.innerHTML = docLinkHtml;\n",
              "        element.appendChild(docLink);\n",
              "      }\n",
              "    </script>\n",
              "  </div>\n",
              "\n",
              "\n",
              "<div id=\"df-a77663b6-522c-4f8e-a21b-19a9ce72afc6\">\n",
              "  <button class=\"colab-df-quickchart\" onclick=\"quickchart('df-a77663b6-522c-4f8e-a21b-19a9ce72afc6')\"\n",
              "            title=\"Suggest charts\"\n",
              "            style=\"display:none;\">\n",
              "\n",
              "<svg xmlns=\"http://www.w3.org/2000/svg\" height=\"24px\"viewBox=\"0 0 24 24\"\n",
              "     width=\"24px\">\n",
              "    <g>\n",
              "        <path d=\"M19 3H5c-1.1 0-2 .9-2 2v14c0 1.1.9 2 2 2h14c1.1 0 2-.9 2-2V5c0-1.1-.9-2-2-2zM9 17H7v-7h2v7zm4 0h-2V7h2v10zm4 0h-2v-4h2v4z\"/>\n",
              "    </g>\n",
              "</svg>\n",
              "  </button>\n",
              "\n",
              "<style>\n",
              "  .colab-df-quickchart {\n",
              "      --bg-color: #E8F0FE;\n",
              "      --fill-color: #1967D2;\n",
              "      --hover-bg-color: #E2EBFA;\n",
              "      --hover-fill-color: #174EA6;\n",
              "      --disabled-fill-color: #AAA;\n",
              "      --disabled-bg-color: #DDD;\n",
              "  }\n",
              "\n",
              "  [theme=dark] .colab-df-quickchart {\n",
              "      --bg-color: #3B4455;\n",
              "      --fill-color: #D2E3FC;\n",
              "      --hover-bg-color: #434B5C;\n",
              "      --hover-fill-color: #FFFFFF;\n",
              "      --disabled-bg-color: #3B4455;\n",
              "      --disabled-fill-color: #666;\n",
              "  }\n",
              "\n",
              "  .colab-df-quickchart {\n",
              "    background-color: var(--bg-color);\n",
              "    border: none;\n",
              "    border-radius: 50%;\n",
              "    cursor: pointer;\n",
              "    display: none;\n",
              "    fill: var(--fill-color);\n",
              "    height: 32px;\n",
              "    padding: 0;\n",
              "    width: 32px;\n",
              "  }\n",
              "\n",
              "  .colab-df-quickchart:hover {\n",
              "    background-color: var(--hover-bg-color);\n",
              "    box-shadow: 0 1px 2px rgba(60, 64, 67, 0.3), 0 1px 3px 1px rgba(60, 64, 67, 0.15);\n",
              "    fill: var(--button-hover-fill-color);\n",
              "  }\n",
              "\n",
              "  .colab-df-quickchart-complete:disabled,\n",
              "  .colab-df-quickchart-complete:disabled:hover {\n",
              "    background-color: var(--disabled-bg-color);\n",
              "    fill: var(--disabled-fill-color);\n",
              "    box-shadow: none;\n",
              "  }\n",
              "\n",
              "  .colab-df-spinner {\n",
              "    border: 2px solid var(--fill-color);\n",
              "    border-color: transparent;\n",
              "    border-bottom-color: var(--fill-color);\n",
              "    animation:\n",
              "      spin 1s steps(1) infinite;\n",
              "  }\n",
              "\n",
              "  @keyframes spin {\n",
              "    0% {\n",
              "      border-color: transparent;\n",
              "      border-bottom-color: var(--fill-color);\n",
              "      border-left-color: var(--fill-color);\n",
              "    }\n",
              "    20% {\n",
              "      border-color: transparent;\n",
              "      border-left-color: var(--fill-color);\n",
              "      border-top-color: var(--fill-color);\n",
              "    }\n",
              "    30% {\n",
              "      border-color: transparent;\n",
              "      border-left-color: var(--fill-color);\n",
              "      border-top-color: var(--fill-color);\n",
              "      border-right-color: var(--fill-color);\n",
              "    }\n",
              "    40% {\n",
              "      border-color: transparent;\n",
              "      border-right-color: var(--fill-color);\n",
              "      border-top-color: var(--fill-color);\n",
              "    }\n",
              "    60% {\n",
              "      border-color: transparent;\n",
              "      border-right-color: var(--fill-color);\n",
              "    }\n",
              "    80% {\n",
              "      border-color: transparent;\n",
              "      border-right-color: var(--fill-color);\n",
              "      border-bottom-color: var(--fill-color);\n",
              "    }\n",
              "    90% {\n",
              "      border-color: transparent;\n",
              "      border-bottom-color: var(--fill-color);\n",
              "    }\n",
              "  }\n",
              "</style>\n",
              "\n",
              "  <script>\n",
              "    async function quickchart(key) {\n",
              "      const quickchartButtonEl =\n",
              "        document.querySelector('#' + key + ' button');\n",
              "      quickchartButtonEl.disabled = true;  // To prevent multiple clicks.\n",
              "      quickchartButtonEl.classList.add('colab-df-spinner');\n",
              "      try {\n",
              "        const charts = await google.colab.kernel.invokeFunction(\n",
              "            'suggestCharts', [key], {});\n",
              "      } catch (error) {\n",
              "        console.error('Error during call to suggestCharts:', error);\n",
              "      }\n",
              "      quickchartButtonEl.classList.remove('colab-df-spinner');\n",
              "      quickchartButtonEl.classList.add('colab-df-quickchart-complete');\n",
              "    }\n",
              "    (() => {\n",
              "      let quickchartButtonEl =\n",
              "        document.querySelector('#df-a77663b6-522c-4f8e-a21b-19a9ce72afc6 button');\n",
              "      quickchartButtonEl.style.display =\n",
              "        google.colab.kernel.accessAllowed ? 'block' : 'none';\n",
              "    })();\n",
              "  </script>\n",
              "</div>\n",
              "    </div>\n",
              "  </div>\n"
            ]
          },
          "metadata": {},
          "execution_count": 167
        }
      ]
    },
    {
      "cell_type": "code",
      "source": [
        "print(len(data[data['signals']!=0]))"
      ],
      "metadata": {
        "colab": {
          "base_uri": "https://localhost:8080/"
        },
        "id": "ANRLvEGVA5-J",
        "outputId": "aa9f808c-043d-4359-9982-147e732c6b6f"
      },
      "execution_count": null,
      "outputs": [
        {
          "output_type": "stream",
          "name": "stdout",
          "text": [
            "111\n"
          ]
        }
      ]
    },
    {
      "cell_type": "code",
      "source": [
        "data.to_csv('output_for_HA+2ADX.csv', index=True)"
      ],
      "metadata": {
        "id": "9hSCy5tFanzr"
      },
      "execution_count": null,
      "outputs": []
    }
  ]
}